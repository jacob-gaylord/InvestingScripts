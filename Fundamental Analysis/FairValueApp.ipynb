{
 "cells": [
  {
   "cell_type": "code",
   "execution_count": null,
   "id": "f028f98e",
   "metadata": {},
   "outputs": [],
   "source": [
    "import streamlit as st \n",
    "import requests"
   ]
  },
  {
   "cell_type": "code",
   "execution_count": null,
   "id": "fef99e15",
   "metadata": {},
   "outputs": [],
   "source": [
    "def pv(fv,requiredRateOfReturn,years):\n",
    "    return fv / ((1 + requiredRateOfReturn / 100) ** years)\n",
    "\n",
    "def fv(pv,growth,years):\n",
    "    return pv * (1 + growth)  ** years "
   ]
  },
  {
   "cell_type": "code",
   "execution_count": null,
   "id": "7165fe9c",
   "metadata": {},
   "outputs": [],
   "source": [
    "ticker = st.text_input('Ticker', \"AAPL\").upper()\n",
    "buttonClicked = st.button('Set')"
   ]
  },
  {
   "cell_type": "code",
   "execution_count": null,
   "id": "b7e78d8a",
   "metadata": {},
   "outputs": [],
   "source": [
    "if buttonClicked:\n",
    "  # Get the data\n",
    "  link  = f\"\"\"https://query1.finance.yahoo.com/v10/...{ticker}?\"\"\"\n",
    "  modules = f\"\"\"modules=assetProfile%2Cprice%2CfinancialData%2CearningsTrend%2CdefaultKeyStatistics\"\"\"\n",
    "  requestString = link + modules"
   ]
  },
  {
   "cell_type": "code",
   "execution_count": null,
   "id": "e19b869b",
   "metadata": {},
   "outputs": [],
   "source": [
    "request = requests.get(f\"{requestString}\", headers={\"USER-AGENT\": \"Mozilla/5.0\"})\n",
    "json = request.json()\n",
    "data = json[\"quoteSummary\"][\"result\"][0]\n",
    "\n",
    "st.session_state.data = data\n",
    "\n",
    "if 'data' in st.session_state:\n",
    "  data = st.session_state.data"
   ]
  },
  {
   "cell_type": "code",
   "execution_count": null,
   "id": "54b0b843",
   "metadata": {},
   "outputs": [],
   "source": [
    "st.header(\"Company Profile\")\n",
    "st.metric(\"Sector\", data[\"assetProfile\"][\"sector\"])\n",
    "st.metric(\"Industry\", data[\"assetProfile\"][\"industry\"])\n",
    "st.metric(\"Website\", data[\"assetProfile\"][\"website\"])\n",
    "st.metric(\"Market Cap\", data[\"price\"][\"marketCap\"][\"fmt\"])\n",
    "with st.expander(\"About Company\"):\n",
    "    st.write(data[\"assetProfile\"][\"longBusinessSummary\"])"
   ]
  },
  {
   "cell_type": "code",
   "execution_count": null,
   "id": "75758196",
   "metadata": {},
   "outputs": [],
   "source": [
    "st.markdown(\"\", unsafe_allow_html=True)\n",
    "st.markdown(\"\", unsafe_allow_html=True)"
   ]
  },
  {
   "cell_type": "code",
   "execution_count": null,
   "id": "269cd8bc",
   "metadata": {},
   "outputs": [],
   "source": [
    "st.header(\"Valuation\")\n",
    "currentPrice = data[\"financialData\"][\"currentPrice\"][\"raw\"]\n",
    "growth = data[\"earningsTrend\"][\"trend\"][ 4 ][ \"growth\" ][ \"raw\" ] * 100\n",
    "peFWD = data[\"defaultKeyStatistics\"][\"forwardPE\"][\"raw\"]\n",
    "epsFWD = data[\"defaultKeyStatistics\"][\"forwardEps\"][\"raw\"]\n",
    "requiredRateOfReturn = 10.0\n",
    "yearsToProject = 5"
   ]
  },
  {
   "cell_type": "code",
   "execution_count": null,
   "id": "a89a01dc",
   "metadata": {},
   "outputs": [],
   "source": [
    "# # Print the metrics \n",
    "  # st.metric(\"currentPrice\", currentPrice)\n",
    "  # st.metric(\"growth\", growth)\n",
    "  # st.metric(\"peFWD\", peFWD)\n",
    "  # st.metric(\"epsFWD\", epsFWD)\n",
    "  # st.metric(\"requiredRateOfReturn\", requiredRateOfReturn)\n",
    "  # st.metric(\"yearsToProject\", yearsToProject"
   ]
  },
  {
   "cell_type": "code",
   "execution_count": null,
   "id": "e68c0a74",
   "metadata": {},
   "outputs": [],
   "source": [
    "growth = st.number_input(\"Growth\", value=growth, step = 1.0)\n",
    "peFWD = st.number_input(\"P/E\", value=peFWD, step = 1.0)\n",
    "requiredRateOfReturn = st.number_input(\"Required Rate Of Return\", value=requiredRateOfReturn, step = 1.0)"
   ]
  },
  {
   "cell_type": "code",
   "execution_count": null,
   "id": "a6abb926",
   "metadata": {},
   "outputs": [],
   "source": [
    "futureEPS = fv(epsFWD,growth/100,yearsToProject)\n",
    "futurePrice = futureEPS * peFWD \n",
    "stickerPrice = pv(futurePrice, requiredRateOfReturn, yearsToProject)\n",
    "upside = (stickerPrice - currentPrice)/stickerPrice * 100"
   ]
  },
  {
   "cell_type": "code",
   "execution_count": null,
   "id": "a6be4496",
   "metadata": {},
   "outputs": [],
   "source": [
    "st.metric(\"EPS\", \"{:.2f}\".format(futureEPS))\n",
    "st.metric(\"Future Price\", \"{:.2f}\".format(futurePrice))\n",
    "st.metric(\"Sticker Price\", \"{:.2f}\".format(stickerPrice))\n",
    "st.metric(\"Current Price\", \"{:.2f}\".format(currentPrice))\n",
    "st.metric(\"Upside\", \"{:.2f}\".format(upside))"
   ]
  }
 ],
 "metadata": {
  "kernelspec": {
   "display_name": "Python 3 (ipykernel)",
   "language": "python",
   "name": "python3"
  },
  "language_info": {
   "codemirror_mode": {
    "name": "ipython",
    "version": 3
   },
   "file_extension": ".py",
   "mimetype": "text/x-python",
   "name": "python",
   "nbconvert_exporter": "python",
   "pygments_lexer": "ipython3",
   "version": "3.9.12"
  }
 },
 "nbformat": 4,
 "nbformat_minor": 5
}
