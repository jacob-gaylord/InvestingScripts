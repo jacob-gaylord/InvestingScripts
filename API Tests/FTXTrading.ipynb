{
 "cells": [
  {
   "cell_type": "code",
   "execution_count": 1,
   "id": "8ad28613",
   "metadata": {},
   "outputs": [],
   "source": [
    "import requests\n",
    "import pandas as pd"
   ]
  },
  {
   "cell_type": "code",
   "execution_count": 3,
   "id": "0df3bc41",
   "metadata": {},
   "outputs": [],
   "source": [
    "r = requests.get('https://ftx.com/api/markets')"
   ]
  },
  {
   "cell_type": "code",
   "execution_count": 7,
   "id": "0376df84",
   "metadata": {},
   "outputs": [],
   "source": [
    "df = pd.DataFrame(r.json()['result'])"
   ]
  },
  {
   "cell_type": "code",
   "execution_count": 9,
   "id": "aa4a500c",
   "metadata": {},
   "outputs": [],
   "source": [
    "df.index = df.name"
   ]
  },
  {
   "cell_type": "code",
   "execution_count": 10,
   "id": "591c63ae",
   "metadata": {},
   "outputs": [
    {
     "data": {
      "text/plain": [
       "Index(['name', 'enabled', 'postOnly', 'priceIncrement', 'sizeIncrement',\n",
       "       'minProvideSize', 'last', 'bid', 'ask', 'price', 'type', 'futureType',\n",
       "       'baseCurrency', 'isEtfMarket', 'quoteCurrency', 'underlying',\n",
       "       'restricted', 'highLeverageFeeExempt', 'largeOrderThreshold',\n",
       "       'change1h', 'change24h', 'changeBod', 'quoteVolume24h', 'volumeUsd24h',\n",
       "       'priceHigh24h', 'priceLow24h', 'tokenizedEquity'],\n",
       "      dtype='object')"
      ]
     },
     "execution_count": 10,
     "metadata": {},
     "output_type": "execute_result"
    }
   ],
   "source": [
    "df.columns"
   ]
  },
  {
   "cell_type": "code",
   "execution_count": 11,
   "id": "56d7c1ec",
   "metadata": {},
   "outputs": [
    {
     "data": {
      "text/plain": [
       "name\n",
       "1INCH-PERP      future\n",
       "1INCH-1230      future\n",
       "1INCH/USD         spot\n",
       "AAPL-1230       future\n",
       "AAPL/USD          spot\n",
       "                 ...  \n",
       "XTZBULL/USDT      spot\n",
       "XTZHALF/USD       spot\n",
       "XTZHEDGE/USD      spot\n",
       "ZECBEAR/USD       spot\n",
       "ZECBULL/USD       spot\n",
       "Name: type, Length: 858, dtype: object"
      ]
     },
     "execution_count": 11,
     "metadata": {},
     "output_type": "execute_result"
    }
   ],
   "source": [
    "df.type"
   ]
  },
  {
   "cell_type": "code",
   "execution_count": 12,
   "id": "c19a8f4c",
   "metadata": {},
   "outputs": [],
   "source": [
    "spot_df = df[df.type =='spot']"
   ]
  },
  {
   "cell_type": "code",
   "execution_count": 13,
   "id": "eb329b2f",
   "metadata": {},
   "outputs": [
    {
     "data": {
      "text/plain": [
       "Index(['name', 'enabled', 'postOnly', 'priceIncrement', 'sizeIncrement',\n",
       "       'minProvideSize', 'last', 'bid', 'ask', 'price', 'type', 'futureType',\n",
       "       'baseCurrency', 'isEtfMarket', 'quoteCurrency', 'underlying',\n",
       "       'restricted', 'highLeverageFeeExempt', 'largeOrderThreshold',\n",
       "       'change1h', 'change24h', 'changeBod', 'quoteVolume24h', 'volumeUsd24h',\n",
       "       'priceHigh24h', 'priceLow24h', 'tokenizedEquity'],\n",
       "      dtype='object')"
      ]
     },
     "execution_count": 13,
     "metadata": {},
     "output_type": "execute_result"
    }
   ],
   "source": [
    "spot_df.columns"
   ]
  },
  {
   "cell_type": "code",
   "execution_count": 16,
   "id": "47f6f82b",
   "metadata": {},
   "outputs": [],
   "source": [
    "spot_df = spot_df[spot_df.tokenizedEquity.isna()]"
   ]
  },
  {
   "cell_type": "code",
   "execution_count": 20,
   "id": "f8cb1430",
   "metadata": {},
   "outputs": [],
   "source": [
    "spot_df = spot_df[spot_df.isEtfMarket == False]"
   ]
  },
  {
   "cell_type": "code",
   "execution_count": 23,
   "id": "9a794821",
   "metadata": {},
   "outputs": [],
   "source": [
    "spot_df = spot_df[spot_df.quoteCurrency == 'USD']"
   ]
  },
  {
   "cell_type": "code",
   "execution_count": 25,
   "id": "21eab998",
   "metadata": {},
   "outputs": [
    {
     "data": {
      "text/plain": [
       "['1INCH/USD',\n",
       " 'AAVE/USD',\n",
       " 'AGLD/USD',\n",
       " 'AKRO/USD',\n",
       " 'ALCX/USD',\n",
       " 'ALEPH/USD',\n",
       " 'ALGO/USD',\n",
       " 'ALICE/USD',\n",
       " 'ALPHA/USD',\n",
       " 'AMPL/USD',\n",
       " 'APE/USD',\n",
       " 'APT/USD',\n",
       " 'ASD/USD',\n",
       " 'ATLAS/USD',\n",
       " 'ATOM/USD',\n",
       " 'AUDIO/USD',\n",
       " 'AURY/USD',\n",
       " 'AVAX/USD',\n",
       " 'AXS/USD',\n",
       " 'BADGER/USD',\n",
       " 'BAL/USD',\n",
       " 'BAND/USD',\n",
       " 'BAO/USD',\n",
       " 'BAR/USD',\n",
       " 'BAT/USD',\n",
       " 'BCH/USD',\n",
       " 'BICO/USD',\n",
       " 'BIT/USD',\n",
       " 'BLT/USD',\n",
       " 'BNB/USD',\n",
       " 'BNT/USD',\n",
       " 'BOBA/USD',\n",
       " 'BRZ/USD',\n",
       " 'BTC/USD',\n",
       " 'BTT/USD',\n",
       " 'C98/USD',\n",
       " 'CAD/USD',\n",
       " 'CEL/USD',\n",
       " 'CHR/USD',\n",
       " 'CHZ/USD',\n",
       " 'CITY/USD',\n",
       " 'CLV/USD',\n",
       " 'COMP/USD',\n",
       " 'CONV/USD',\n",
       " 'COPE/USD',\n",
       " 'CQT/USD',\n",
       " 'CREAM/USD',\n",
       " 'CRO/USD',\n",
       " 'CRV/USD',\n",
       " 'CUSDT/USD',\n",
       " 'CVC/USD',\n",
       " 'CVX/USD',\n",
       " 'DAI/USD',\n",
       " 'DAWN/USD',\n",
       " 'DENT/USD',\n",
       " 'DFL/USD',\n",
       " 'DMG/USD',\n",
       " 'DODO/USD',\n",
       " 'DOGE/USD',\n",
       " 'DOT/USD',\n",
       " 'DYDX/USD',\n",
       " 'EDEN/USD',\n",
       " 'EMB/USD',\n",
       " 'ENJ/USD',\n",
       " 'ENS/USD',\n",
       " 'ETH/USD',\n",
       " 'ETHW/USD',\n",
       " 'EUL/USD',\n",
       " 'EUR/USD',\n",
       " 'EURT/USD',\n",
       " 'FIDA/USD',\n",
       " 'FRONT/USD',\n",
       " 'FTM/USD',\n",
       " 'FTT/USD',\n",
       " 'FXS/USD',\n",
       " 'GAL/USD',\n",
       " 'GALA/USD',\n",
       " 'GALFAN/USD',\n",
       " 'GARI/USD',\n",
       " 'GBP/USD',\n",
       " 'GENE/USD',\n",
       " 'GMT/USD',\n",
       " 'GMX/USD',\n",
       " 'GODS/USD',\n",
       " 'GOG/USD',\n",
       " 'GRT/USD',\n",
       " 'GST/USD',\n",
       " 'GT/USD',\n",
       " 'HBB/USD',\n",
       " 'HGET/USD',\n",
       " 'HMT/USD',\n",
       " 'HNT/USD',\n",
       " 'HOLY/USD',\n",
       " 'HT/USD',\n",
       " 'HUM/USD',\n",
       " 'HXRO/USD',\n",
       " 'IMX/USD',\n",
       " 'INDI/USD',\n",
       " 'INTER/USD',\n",
       " 'IP3/USD',\n",
       " 'JET/USD',\n",
       " 'JOE/USD',\n",
       " 'JST/USD',\n",
       " 'KBTT/USD',\n",
       " 'KIN/USD',\n",
       " 'KNC/USD',\n",
       " 'KSHIB/USD',\n",
       " 'KSOS/USD',\n",
       " 'LDO/USD',\n",
       " 'LEO/USD',\n",
       " 'LINA/USD',\n",
       " 'LINK/USD',\n",
       " 'LOOKS/USD',\n",
       " 'LRC/USD',\n",
       " 'LTC/USD',\n",
       " 'LUA/USD',\n",
       " 'MAGIC/USD',\n",
       " 'MANA/USD',\n",
       " 'MAPS/USD',\n",
       " 'MATH/USD',\n",
       " 'MATIC/USD',\n",
       " 'MBS/USD',\n",
       " 'MCB/USD',\n",
       " 'MEDIA/USD',\n",
       " 'MER/USD',\n",
       " 'MKR/USD',\n",
       " 'MNGO/USD',\n",
       " 'MOB/USD',\n",
       " 'MPLX/USD',\n",
       " 'MSOL/USD',\n",
       " 'MTA/USD',\n",
       " 'MTL/USD',\n",
       " 'MYC/USD',\n",
       " 'NEAR/USD',\n",
       " 'NEXO/USD',\n",
       " 'OKB/USD',\n",
       " 'OMG/USD',\n",
       " 'ORBS/USD',\n",
       " 'ORCA/USD',\n",
       " 'OXY/USD',\n",
       " 'PAXG/USD',\n",
       " 'PEOPLE/USD',\n",
       " 'PERP/USD',\n",
       " 'POLIS/USD',\n",
       " 'PORT/USD',\n",
       " 'PRISM/USD',\n",
       " 'PROM/USD',\n",
       " 'PSG/USD',\n",
       " 'PSY/USD',\n",
       " 'PTU/USD',\n",
       " 'PUNDIX/USD',\n",
       " 'QI/USD',\n",
       " 'RAY/USD',\n",
       " 'REAL/USD',\n",
       " 'REEF/USD',\n",
       " 'REN/USD',\n",
       " 'RNDR/USD',\n",
       " 'ROOK/USD',\n",
       " 'RSR/USD',\n",
       " 'SAND/USD',\n",
       " 'SECO/USD',\n",
       " 'SHIB/USD',\n",
       " 'SKL/USD',\n",
       " 'SLND/USD',\n",
       " 'SLP/USD',\n",
       " 'SLRS/USD',\n",
       " 'SNX/USD',\n",
       " 'SNY/USD',\n",
       " 'SOL/USD',\n",
       " 'SOS/USD',\n",
       " 'SPA/USD',\n",
       " 'SPELL/USD',\n",
       " 'SRM/USD',\n",
       " 'STARS/USD',\n",
       " 'STEP/USD',\n",
       " 'STETH/USD',\n",
       " 'STG/USD',\n",
       " 'STMX/USD',\n",
       " 'STORJ/USD',\n",
       " 'STSOL/USD',\n",
       " 'SUN/USD',\n",
       " 'SUSHI/USD',\n",
       " 'SWEAT/USD',\n",
       " 'SXP/USD',\n",
       " 'SYN/USD',\n",
       " 'TLM/USD',\n",
       " 'TOMO/USD',\n",
       " 'TONCOIN/USD',\n",
       " 'TRU/USD',\n",
       " 'TRX/USD',\n",
       " 'TRYB/USD',\n",
       " 'TULIP/USD',\n",
       " 'UBXT/USD',\n",
       " 'UMEE/USD',\n",
       " 'UNI/USD',\n",
       " 'USDT/USD',\n",
       " 'VGX/USD',\n",
       " 'WAVES/USD',\n",
       " 'WAXL/USD',\n",
       " 'WBTC/USD',\n",
       " 'WFLOW/USD',\n",
       " 'WRX/USD',\n",
       " 'XAUT/USD',\n",
       " 'XPLA/USD',\n",
       " 'XRP/USD',\n",
       " 'YFI/USD',\n",
       " 'YFII/USD',\n",
       " 'YGG/USD',\n",
       " 'ZRX/USD']"
      ]
     },
     "execution_count": 25,
     "metadata": {},
     "output_type": "execute_result"
    }
   ],
   "source": [
    "spot_df.index.to_list()"
   ]
  },
  {
   "cell_type": "code",
   "execution_count": 27,
   "id": "83f5bdb1",
   "metadata": {},
   "outputs": [
    {
     "data": {
      "text/plain": [
       "name\n",
       "SLRS/USD    -0.242229\n",
       "PORT/USD    -0.130529\n",
       "DMG/USD     -0.106242\n",
       "EUL/USD     -0.091086\n",
       "GODS/USD    -0.069287\n",
       "               ...   \n",
       "ROOK/USD     0.105742\n",
       "ETHW/USD     0.128470\n",
       "GMX/USD      0.140952\n",
       "DOGE/USD     0.147557\n",
       "MAGIC/USD    0.272451\n",
       "Name: change24h, Length: 209, dtype: float64"
      ]
     },
     "execution_count": 27,
     "metadata": {},
     "output_type": "execute_result"
    }
   ],
   "source": [
    "spot_df.change24h.sort_values()"
   ]
  },
  {
   "cell_type": "code",
   "execution_count": 31,
   "id": "22e2bf3b",
   "metadata": {},
   "outputs": [
    {
     "data": {
      "text/plain": [
       "<AxesSubplot:xlabel='name'>"
      ]
     },
     "execution_count": 31,
     "metadata": {},
     "output_type": "execute_result"
    },
    {
     "data": {
      "image/png": "[encoded data removed]",
      "text/plain": [
       "<Figure size 432x288 with 1 Axes>"
      ]
     },
     "metadata": {
      "needs_background": "light"
     },
     "output_type": "display_data"
    }
   ],
   "source": [
    "spot_df.change1h.sort_values(ascending = False).head(10).plot(kind='bar')"
   ]
  },
  {
   "cell_type": "code",
   "execution_count": null,
   "id": "0436cf44",
   "metadata": {},
   "outputs": [],
   "source": []
  }
 ],
 "metadata": {
  "kernelspec": {
   "display_name": "Python 3 (ipykernel)",
   "language": "python",
   "name": "python3"
  },
  "language_info": {
   "codemirror_mode": {
    "name": "ipython",
    "version": 3
   },
   "file_extension": ".py",
   "mimetype": "text/x-python",
   "name": "python",
   "nbconvert_exporter": "python",
   "pygments_lexer": "ipython3",
   "version": "3.9.12"
  }
 },
 "nbformat": 4,
 "nbformat_minor": 5
}
