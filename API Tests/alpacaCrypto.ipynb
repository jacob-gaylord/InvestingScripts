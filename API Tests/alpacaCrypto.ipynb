{
 "cells": [
  {
   "cell_type": "code",
   "execution_count": 5,
   "metadata": {},
   "outputs": [],
   "source": [
    "from alpaca.data.historical import CryptoHistoricalDataClient\n",
    "from alpaca.data.requests import CryptoBarsRequest\n",
    "from alpaca.data.timeframe import TimeFrame\n",
    "from alpaca.trading.client import TradingClient\n",
    "from alpaca.trading.requests import MarketOrderRequest\n",
    "from alpaca.trading.enums import OrderSide, TimeInForce\n",
    "import pandas as pd\n",
    "import requests\n",
    "import json\n",
    "import datetime as dt\n",
    "from itertools import chain"
   ]
  },
  {
   "cell_type": "code",
   "execution_count": 15,
   "metadata": {},
   "outputs": [
    {
     "data": {
      "text/plain": [
       "['LINK/USDT',\n",
       " 'SHIB/USD',\n",
       " 'AAVE/USD',\n",
       " 'WBTC/USD',\n",
       " 'PAXG/USD',\n",
       " 'PAXG/USDT',\n",
       " 'BTC/USD',\n",
       " 'BTC/USDT',\n",
       " 'SOL/BTC',\n",
       " 'SOL/USD',\n",
       " 'SOL/USDT',\n",
       " 'DAI/USDT',\n",
       " 'DOGE/USD',\n",
       " 'DOGE/USDT',\n",
       " 'DAI/USD',\n",
       " 'ALGO/USDT',\n",
       " 'ALGO/USD',\n",
       " 'BCH/USD',\n",
       " 'ETH/USD',\n",
       " 'ETH/USDT',\n",
       " 'BCH/BTC',\n",
       " 'SUSHI/USD',\n",
       " 'SUSHI/USDT',\n",
       " 'GRT/USD',\n",
       " 'BAT/USD',\n",
       " 'ETH/BTC',\n",
       " 'TRX/USD',\n",
       " 'TRX/USDT',\n",
       " 'BCH/USDT',\n",
       " 'UNI/BTC',\n",
       " 'UNI/USD',\n",
       " 'UNI/USDT',\n",
       " 'USDT/USD',\n",
       " 'YFI/USD',\n",
       " 'LINK/BTC',\n",
       " 'LINK/USD',\n",
       " 'YFI/USDT',\n",
       " 'LTC/BTC',\n",
       " 'LTC/USD',\n",
       " 'LTC/USDT',\n",
       " 'AAVE/USDT',\n",
       " 'MATIC/BTC',\n",
       " 'MATIC/USD',\n",
       " 'AVAX/USDT',\n",
       " 'AVAX/USD',\n",
       " 'MKR/USD',\n",
       " 'NEAR/USD',\n",
       " 'NEAR/USDT']"
      ]
     },
     "execution_count": 15,
     "metadata": {},
     "output_type": "execute_result"
    }
   ],
   "source": [
    "\n",
    "\n",
    "API_KEY = 'AK547FI32J6EWZRH46KY'\n",
    "SECRET_KEY = 'SR1NeXMzmnNXrKLdFwkxQrkSvfqp04ysb9hb9vSv'\n",
    "\n",
    "trading_client = TradingClient(API_KEY, SECRET_KEY, paper=True)\n",
    "\n",
    "\n",
    "json_data = requests.get('https://api.alpaca.markets/v2/assets?asset_class=crypto', headers={'Apca-Api-Key-Id':API_KEY, 'Apca-Api-Secret-Key':SECRET_KEY})\n",
    "results = json_data.json()\n",
    "\n",
    "out = []\n",
    "for r in results:\n",
    "    out.append(r['symbol'])\n",
    "out"
   ]
  },
  {
   "cell_type": "code",
   "execution_count": 28,
   "metadata": {},
   "outputs": [
    {
     "data": {
      "text/plain": [
       "('symbol', 'LINK/USDT')"
      ]
     },
     "execution_count": 28,
     "metadata": {},
     "output_type": "execute_result"
    }
   ],
   "source": [
    "# no keys required for crypto data\n",
    "client = CryptoHistoricalDataClient()\n",
    "\n",
    "request_params = CryptoBarsRequest(\n",
    "                        symbol_or_symbols=out,\n",
    "                        timeframe=TimeFrame.Month,\n",
    "                        start=dt.datetime(2022,11,1)\n",
    "                 )\n",
    "\n",
    "bars = client.get_crypto_bars(request_params)\n",
    "\n",
    "# convert to dataframe\n",
    "bars.df\n",
    "\n",
    "# access bars as list - important to note that you must access by symbol key\n",
    "# even for a single symbol request - models are agnostic to number of symbols\n",
    "all_cryptos = []\n",
    "for i in out:\n",
    "       all_cryptos.append(bars[i])\n",
    "cols = ['symbol', 'timestamp', 'open', 'high', 'low', 'close', 'volume', 'trade_count', 'vwap']\n",
    "df = pd.DataFrame([*list(chain.from_iterable(all_cryptos))], columns=cols)\n",
    "\n",
    "\n",
    "def rowSplit(row):\n",
    "        \n",
    "\n",
    " = df.symbol[0]"
   ]
  },
  {
   "cell_type": "code",
   "execution_count": null,
   "metadata": {},
   "outputs": [],
   "source": []
  }
 ],
 "metadata": {
  "kernelspec": {
   "display_name": "Python 3.10.8 64-bit (microsoft store)",
   "language": "python",
   "name": "python3"
  },
  "language_info": {
   "codemirror_mode": {
    "name": "ipython",
    "version": 3
   },
   "file_extension": ".py",
   "mimetype": "text/x-python",
   "name": "python",
   "nbconvert_exporter": "python",
   "pygments_lexer": "ipython3",
   "version": "3.10.8"
  },
  "orig_nbformat": 4,
  "vscode": {
   "interpreter": {
    "hash": "5dd8cad38ac397552cef5385cdae14042bda3126295b38f71df0be63f0c5514c"
   }
  }
 },
 "nbformat": 4,
 "nbformat_minor": 2
}
