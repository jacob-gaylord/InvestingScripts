{
 "cells": [
  {
   "cell_type": "code",
   "execution_count": 2,
   "metadata": {},
   "outputs": [],
   "source": [
    "from coinmarketcapapi import CoinMarketCapAPI\n",
    "import pandas as pd"
   ]
  },
  {
   "cell_type": "code",
   "execution_count": 5,
   "metadata": {},
   "outputs": [
    {
     "ename": "CoinMarketCapAPIError",
     "evalue": "RESPONSE: 161ms ERR 400 \"\"symbol\" is not allowed\": {}",
     "output_type": "error",
     "traceback": [
      "\u001b[1;31m---------------------------------------------------------------------------\u001b[0m",
      "\u001b[1;31mCoinMarketCapAPIError\u001b[0m                     Traceback (most recent call last)",
      "Cell \u001b[1;32mIn [5], line 3\u001b[0m\n\u001b[0;32m      1\u001b[0m cmc \u001b[39m=\u001b[39m CoinMarketCapAPI()\n\u001b[1;32m----> 3\u001b[0m rep \u001b[39m=\u001b[39m cmc\u001b[39m.\u001b[39;49mexchange_quotes_latest(symbol\u001b[39m=\u001b[39;49m\u001b[39m'\u001b[39;49m\u001b[39mBTC\u001b[39;49m\u001b[39m'\u001b[39;49m) \u001b[39m# See methods below\u001b[39;00m\n\u001b[0;32m      5\u001b[0m \u001b[39mprint\u001b[39m(rep\u001b[39m.\u001b[39mdata)                 \u001b[39m# Whole repsonse payload\u001b[39;00m\n\u001b[0;32m      6\u001b[0m \u001b[39m# print(rep.data[\"BTC\"][\"logo\"])  # Some data in response\u001b[39;00m\n\u001b[0;32m      7\u001b[0m \u001b[39m# print(rep.credit_count)         # API credits\u001b[39;00m\n\u001b[0;32m      8\u001b[0m \u001b[39m# print(rep.total_elapsed)        # Request time in ms\u001b[39;00m\n",
      "File \u001b[1;32m~\\AppData\\Local\\Packages\\PythonSoftwareFoundation.Python.3.10_qbz5n2kfra8p0\\LocalCache\\local-packages\\Python310\\site-packages\\coinmarketcapapi\\__init__.py:471\u001b[0m, in \u001b[0;36mCoinMarketCapAPI.exchange_quotes_latest\u001b[1;34m(self, **kwargs)\u001b[0m\n\u001b[0;32m    465\u001b[0m \u001b[39mdef\u001b[39;00m \u001b[39mexchange_quotes_latest\u001b[39m(\u001b[39mself\u001b[39m, \u001b[39m*\u001b[39m\u001b[39m*\u001b[39mkwargs):\n\u001b[0;32m    466\u001b[0m     \u001b[39m\"\"\"\u001b[39;00m\n\u001b[0;32m    467\u001b[0m \u001b[39m      Latest quotes\u001b[39;00m\n\u001b[0;32m    468\u001b[0m \u001b[39m      See also :\u001b[39;00m\n\u001b[0;32m    469\u001b[0m \u001b[39m      https://coinmarketcap.com/api/documentation/v1/#operation/getV1ExchangeQuotesLatest\u001b[39;00m\n\u001b[0;32m    470\u001b[0m \u001b[39m    \"\"\"\u001b[39;00m\n\u001b[1;32m--> 471\u001b[0m     \u001b[39mreturn\u001b[39;00m \u001b[39mself\u001b[39m\u001b[39m.\u001b[39m__get(\n\u001b[0;32m    472\u001b[0m         \u001b[39m'\u001b[39m\u001b[39m/exchange/quotes/latest\u001b[39m\u001b[39m'\u001b[39m,\n\u001b[0;32m    473\u001b[0m         \u001b[39m*\u001b[39m\u001b[39m*\u001b[39mkwargs)\n",
      "File \u001b[1;32m~\\AppData\\Local\\Packages\\PythonSoftwareFoundation.Python.3.10_qbz5n2kfra8p0\\LocalCache\\local-packages\\Python310\\site-packages\\coinmarketcapapi\\__init__.py:241\u001b[0m, in \u001b[0;36mCoinMarketCapAPI.__get\u001b[1;34m(self, url, **kwargs)\u001b[0m\n\u001b[0;32m    235\u001b[0m             ak \u001b[39m=\u001b[39m \u001b[39m'\u001b[39m\u001b[39msandbox-api\u001b[39m\u001b[39m'\u001b[39m \u001b[39mif\u001b[39;00m \u001b[39mself\u001b[39m\u001b[39m.\u001b[39m__sandbox \u001b[39melse\u001b[39;00m \u001b[39m'\u001b[39m\u001b[39mpro-api\u001b[39m\u001b[39m'\u001b[39m\n\u001b[0;32m    236\u001b[0m             \u001b[39mself\u001b[39m\u001b[39m.\u001b[39m__logger\u001b[39m.\u001b[39mwarning(\n\u001b[0;32m    237\u001b[0m                 \u001b[39m'\u001b[39m\u001b[39mBe sure you are using a \u001b[39m\u001b[39m{}\u001b[39;00m\u001b[39m key or set `sandbox=\u001b[39m\u001b[39m{}\u001b[39;00m\u001b[39m`\u001b[39m\u001b[39m'\u001b[39m\n\u001b[0;32m    238\u001b[0m                 \u001b[39m.\u001b[39mformat(ak, \u001b[39mnot\u001b[39;00m \u001b[39mself\u001b[39m\u001b[39m.\u001b[39m__sandbox) \u001b[39m+\u001b[39m\n\u001b[0;32m    239\u001b[0m                 \u001b[39m'\u001b[39m\u001b[39m to CoinMarketCapAPI, see issue #1.\u001b[39m\u001b[39m'\u001b[39m)\n\u001b[1;32m--> 241\u001b[0m         \u001b[39mraise\u001b[39;00m CoinMarketCapAPIError(rep)\n\u001b[0;32m    242\u001b[0m     \u001b[39mreturn\u001b[39;00m rep\n\u001b[0;32m    243\u001b[0m \u001b[39mexcept\u001b[39;00m (\u001b[39mConnectionError\u001b[39;00m, Timeout, TooManyRedirects) \u001b[39mas\u001b[39;00m e:\n",
      "\u001b[1;31mCoinMarketCapAPIError\u001b[0m: RESPONSE: 161ms ERR 400 \"\"symbol\" is not allowed\": {}"
     ]
    }
   ],
   "source": [
    "cmc = CoinMarketCapAPI()\n",
    "  \n",
    "rep = cmc.exchange_quotes_latest() # See methods below\n",
    "\n",
    "print(rep.data)                 # Whole repsonse payload\n",
    "# print(rep.data[\"BTC\"][\"logo\"])  # Some data in response\n",
    "# print(rep.credit_count)         # API credits\n",
    "# print(rep.total_elapsed)        # Request time in ms"
   ]
  },
  {
   "cell_type": "code",
   "execution_count": null,
   "metadata": {},
   "outputs": [],
   "source": []
  }
 ],
 "metadata": {
  "kernelspec": {
   "display_name": "Python 3.10.8 64-bit (microsoft store)",
   "language": "python",
   "name": "python3"
  },
  "language_info": {
   "codemirror_mode": {
    "name": "ipython",
    "version": 3
   },
   "file_extension": ".py",
   "mimetype": "text/x-python",
   "name": "python",
   "nbconvert_exporter": "python",
   "pygments_lexer": "ipython3",
   "version": "3.10.8"
  },
  "orig_nbformat": 4,
  "vscode": {
   "interpreter": {
    "hash": "5dd8cad38ac397552cef5385cdae14042bda3126295b38f71df0be63f0c5514c"
   }
  }
 },
 "nbformat": 4,
 "nbformat_minor": 2
}
