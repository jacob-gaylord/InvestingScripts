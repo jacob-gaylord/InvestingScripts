{
 "cells": [
  {
   "cell_type": "code",
   "execution_count": 1,
   "metadata": {},
   "outputs": [],
   "source": [
    "import pandas as pd\n",
    "import yfinance as yf\n",
    "import numpy as np\n",
    "import datetime as dt\n",
    "from pandas.tseries.offsets import MonthEnd"
   ]
  },
  {
   "cell_type": "code",
   "execution_count": 2,
   "metadata": {},
   "outputs": [
    {
     "name": "stdout",
     "output_type": "stream",
     "text": [
      "[*********************100%***********************]  7 of 7 completed\n"
     ]
    }
   ],
   "source": [
    "tickers = ['amzn', 'aapl', 'msft', 'goog', 'pypl', 'adbe', 'tsla']\n",
    "df = yf.download(tickers, start='2015-8-23')\n",
    "\n",
    "prices = df['Adj Close']\n",
    "prices.index = pd.to_datetime(prices.index)"
   ]
  },
  {
   "cell_type": "code",
   "execution_count": 3,
   "metadata": {},
   "outputs": [
    {
     "data": {
      "text/html": [
       "<div>\n",
       "<style scoped>\n",
       "    .dataframe tbody tr th:only-of-type {\n",
       "        vertical-align: middle;\n",
       "    }\n",
       "\n",
       "    .dataframe tbody tr th {\n",
       "        vertical-align: top;\n",
       "    }\n",
       "\n",
       "    .dataframe thead th {\n",
       "        text-align: right;\n",
       "    }\n",
       "</style>\n",
       "<table border=\"1\" class=\"dataframe\">\n",
       "  <thead>\n",
       "    <tr style=\"text-align: right;\">\n",
       "      <th></th>\n",
       "      <th>AAPL</th>\n",
       "      <th>ADBE</th>\n",
       "      <th>AMZN</th>\n",
       "      <th>GOOG</th>\n",
       "      <th>MSFT</th>\n",
       "      <th>PYPL</th>\n",
       "      <th>TSLA</th>\n",
       "    </tr>\n",
       "    <tr>\n",
       "      <th>Date</th>\n",
       "      <th></th>\n",
       "      <th></th>\n",
       "      <th></th>\n",
       "      <th></th>\n",
       "      <th></th>\n",
       "      <th></th>\n",
       "      <th></th>\n",
       "    </tr>\n",
       "  </thead>\n",
       "  <tbody>\n",
       "    <tr>\n",
       "      <th>2015-08-24</th>\n",
       "      <td>23.500525</td>\n",
       "      <td>74.269997</td>\n",
       "      <td>23.168501</td>\n",
       "      <td>29.480499</td>\n",
       "      <td>37.222424</td>\n",
       "      <td>33.750000</td>\n",
       "      <td>14.591333</td>\n",
       "    </tr>\n",
       "    <tr>\n",
       "      <th>2015-08-25</th>\n",
       "      <td>23.641813</td>\n",
       "      <td>74.570000</td>\n",
       "      <td>23.318501</td>\n",
       "      <td>29.103001</td>\n",
       "      <td>36.141846</td>\n",
       "      <td>32.700001</td>\n",
       "      <td>14.668667</td>\n",
       "    </tr>\n",
       "    <tr>\n",
       "      <th>2015-08-26</th>\n",
       "      <td>24.997795</td>\n",
       "      <td>77.330002</td>\n",
       "      <td>25.038500</td>\n",
       "      <td>31.431000</td>\n",
       "      <td>38.142273</td>\n",
       "      <td>33.169998</td>\n",
       "      <td>14.989333</td>\n",
       "    </tr>\n",
       "    <tr>\n",
       "      <th>2015-08-27</th>\n",
       "      <td>25.733889</td>\n",
       "      <td>78.910004</td>\n",
       "      <td>25.918501</td>\n",
       "      <td>31.880501</td>\n",
       "      <td>39.205006</td>\n",
       "      <td>34.619999</td>\n",
       "      <td>16.199333</td>\n",
       "    </tr>\n",
       "    <tr>\n",
       "      <th>2015-08-28</th>\n",
       "      <td>25.818218</td>\n",
       "      <td>79.400002</td>\n",
       "      <td>25.900499</td>\n",
       "      <td>31.518999</td>\n",
       "      <td>39.231800</td>\n",
       "      <td>35.040001</td>\n",
       "      <td>16.565332</td>\n",
       "    </tr>\n",
       "    <tr>\n",
       "      <th>...</th>\n",
       "      <td>...</td>\n",
       "      <td>...</td>\n",
       "      <td>...</td>\n",
       "      <td>...</td>\n",
       "      <td>...</td>\n",
       "      <td>...</td>\n",
       "      <td>...</td>\n",
       "    </tr>\n",
       "    <tr>\n",
       "      <th>2022-11-10</th>\n",
       "      <td>146.869995</td>\n",
       "      <td>329.950012</td>\n",
       "      <td>96.629997</td>\n",
       "      <td>94.169998</td>\n",
       "      <td>242.979996</td>\n",
       "      <td>86.800003</td>\n",
       "      <td>190.720001</td>\n",
       "    </tr>\n",
       "    <tr>\n",
       "      <th>2022-11-11</th>\n",
       "      <td>149.699997</td>\n",
       "      <td>341.149994</td>\n",
       "      <td>100.790001</td>\n",
       "      <td>96.730003</td>\n",
       "      <td>247.110001</td>\n",
       "      <td>91.029999</td>\n",
       "      <td>195.970001</td>\n",
       "    </tr>\n",
       "    <tr>\n",
       "      <th>2022-11-14</th>\n",
       "      <td>148.279999</td>\n",
       "      <td>340.369995</td>\n",
       "      <td>98.489998</td>\n",
       "      <td>96.029999</td>\n",
       "      <td>241.550003</td>\n",
       "      <td>89.510002</td>\n",
       "      <td>190.949997</td>\n",
       "    </tr>\n",
       "    <tr>\n",
       "      <th>2022-11-15</th>\n",
       "      <td>150.039993</td>\n",
       "      <td>345.959991</td>\n",
       "      <td>98.940002</td>\n",
       "      <td>98.720001</td>\n",
       "      <td>241.970001</td>\n",
       "      <td>89.860001</td>\n",
       "      <td>194.419998</td>\n",
       "    </tr>\n",
       "    <tr>\n",
       "      <th>2022-11-16</th>\n",
       "      <td>148.789993</td>\n",
       "      <td>338.410004</td>\n",
       "      <td>97.120003</td>\n",
       "      <td>98.989998</td>\n",
       "      <td>241.729996</td>\n",
       "      <td>87.040001</td>\n",
       "      <td>186.919998</td>\n",
       "    </tr>\n",
       "  </tbody>\n",
       "</table>\n",
       "<p>1823 rows × 7 columns</p>\n",
       "</div>"
      ],
      "text/plain": [
       "                  AAPL        ADBE        AMZN       GOOG        MSFT  \\\n",
       "Date                                                                    \n",
       "2015-08-24   23.500525   74.269997   23.168501  29.480499   37.222424   \n",
       "2015-08-25   23.641813   74.570000   23.318501  29.103001   36.141846   \n",
       "2015-08-26   24.997795   77.330002   25.038500  31.431000   38.142273   \n",
       "2015-08-27   25.733889   78.910004   25.918501  31.880501   39.205006   \n",
       "2015-08-28   25.818218   79.400002   25.900499  31.518999   39.231800   \n",
       "...                ...         ...         ...        ...         ...   \n",
       "2022-11-10  146.869995  329.950012   96.629997  94.169998  242.979996   \n",
       "2022-11-11  149.699997  341.149994  100.790001  96.730003  247.110001   \n",
       "2022-11-14  148.279999  340.369995   98.489998  96.029999  241.550003   \n",
       "2022-11-15  150.039993  345.959991   98.940002  98.720001  241.970001   \n",
       "2022-11-16  148.789993  338.410004   97.120003  98.989998  241.729996   \n",
       "\n",
       "                 PYPL        TSLA  \n",
       "Date                               \n",
       "2015-08-24  33.750000   14.591333  \n",
       "2015-08-25  32.700001   14.668667  \n",
       "2015-08-26  33.169998   14.989333  \n",
       "2015-08-27  34.619999   16.199333  \n",
       "2015-08-28  35.040001   16.565332  \n",
       "...               ...         ...  \n",
       "2022-11-10  86.800003  190.720001  \n",
       "2022-11-11  91.029999  195.970001  \n",
       "2022-11-14  89.510002  190.949997  \n",
       "2022-11-15  89.860001  194.419998  \n",
       "2022-11-16  87.040001  186.919998  \n",
       "\n",
       "[1823 rows x 7 columns]"
      ]
     },
     "execution_count": 3,
     "metadata": {},
     "output_type": "execute_result"
    }
   ],
   "source": [
    "prices"
   ]
  },
  {
   "cell_type": "code",
   "execution_count": 4,
   "metadata": {},
   "outputs": [],
   "source": [
    "buydates = pd.date_range(prices.index[0], prices.index[-1], freq='1M')"
   ]
  },
  {
   "cell_type": "code",
   "execution_count": 5,
   "metadata": {},
   "outputs": [],
   "source": [
    "buyprices = df[df.index.isin(buydates)].Close"
   ]
  },
  {
   "cell_type": "code",
   "execution_count": 6,
   "metadata": {},
   "outputs": [],
   "source": [
    "btc_amt = 500/buyprices"
   ]
  },
  {
   "cell_type": "code",
   "execution_count": 7,
   "metadata": {},
   "outputs": [
    {
     "data": {
      "text/plain": [
       "5500"
      ]
     },
     "execution_count": 7,
     "metadata": {},
     "output_type": "execute_result"
    }
   ],
   "source": [
    "500*len(buyprices)"
   ]
  },
  {
   "cell_type": "code",
   "execution_count": 8,
   "metadata": {},
   "outputs": [],
   "source": [
    "btc_amt_LS = 500 * len(buyprices) / buyprices[0]"
   ]
  },
  {
   "cell_type": "code",
   "execution_count": 9,
   "metadata": {},
   "outputs": [
    {
     "data": {
      "text/plain": [
       "1.493496712822221"
      ]
     },
     "execution_count": 9,
     "metadata": {},
     "output_type": "execute_result"
    }
   ],
   "source": [
    "btc_amt_LS"
   ]
  },
  {
   "cell_type": "code",
   "execution_count": 10,
   "metadata": {},
   "outputs": [],
   "source": [
    "btc_amt_sum = btc_amt.cumsum()"
   ]
  },
  {
   "cell_type": "code",
   "execution_count": 11,
   "metadata": {},
   "outputs": [],
   "source": [
    "btc_amt_sum.name = 'btc_amt_DCA'"
   ]
  },
  {
   "cell_type": "code",
   "execution_count": 12,
   "metadata": {},
   "outputs": [],
   "source": [
    "df_tog = pd.concat([btc_amt_sum,df], axis=1).ffill()"
   ]
  },
  {
   "cell_type": "code",
   "execution_count": 13,
   "metadata": {},
   "outputs": [],
   "source": [
    "df_tog['btc_amt_LS'] = btc_amt_LS"
   ]
  },
  {
   "cell_type": "code",
   "execution_count": 14,
   "metadata": {},
   "outputs": [
    {
     "data": {
      "text/html": [
       "<div>\n",
       "<style scoped>\n",
       "    .dataframe tbody tr th:only-of-type {\n",
       "        vertical-align: middle;\n",
       "    }\n",
       "\n",
       "    .dataframe tbody tr th {\n",
       "        vertical-align: top;\n",
       "    }\n",
       "\n",
       "    .dataframe thead th {\n",
       "        text-align: right;\n",
       "    }\n",
       "</style>\n",
       "<table border=\"1\" class=\"dataframe\">\n",
       "  <thead>\n",
       "    <tr style=\"text-align: right;\">\n",
       "      <th></th>\n",
       "      <th>btc_amt_DCA</th>\n",
       "      <th>Open</th>\n",
       "      <th>High</th>\n",
       "      <th>Low</th>\n",
       "      <th>Close</th>\n",
       "      <th>Adj Close</th>\n",
       "      <th>Volume</th>\n",
       "      <th>btc_amt_LS</th>\n",
       "    </tr>\n",
       "    <tr>\n",
       "      <th>Date</th>\n",
       "      <th></th>\n",
       "      <th></th>\n",
       "      <th></th>\n",
       "      <th></th>\n",
       "      <th></th>\n",
       "      <th></th>\n",
       "      <th></th>\n",
       "      <th></th>\n",
       "    </tr>\n",
       "  </thead>\n",
       "  <tbody>\n",
       "    <tr>\n",
       "      <th>2021-12-31</th>\n",
       "      <td>0.135772</td>\n",
       "      <td>3713.430176</td>\n",
       "      <td>3807.288818</td>\n",
       "      <td>3636.869873</td>\n",
       "      <td>3682.632812</td>\n",
       "      <td>3682.632812</td>\n",
       "      <td>14157285268</td>\n",
       "      <td>1.493497</td>\n",
       "    </tr>\n",
       "    <tr>\n",
       "      <th>2022-01-01</th>\n",
       "      <td>0.135772</td>\n",
       "      <td>3683.047119</td>\n",
       "      <td>3769.917969</td>\n",
       "      <td>3682.286621</td>\n",
       "      <td>3769.697021</td>\n",
       "      <td>3769.697021</td>\n",
       "      <td>9776191466</td>\n",
       "      <td>1.493497</td>\n",
       "    </tr>\n",
       "    <tr>\n",
       "      <th>2022-01-02</th>\n",
       "      <td>0.135772</td>\n",
       "      <td>3769.298340</td>\n",
       "      <td>3836.161865</td>\n",
       "      <td>3727.357422</td>\n",
       "      <td>3829.564941</td>\n",
       "      <td>3829.564941</td>\n",
       "      <td>9881471548</td>\n",
       "      <td>1.493497</td>\n",
       "    </tr>\n",
       "    <tr>\n",
       "      <th>2022-01-03</th>\n",
       "      <td>0.135772</td>\n",
       "      <td>3829.535645</td>\n",
       "      <td>3836.198730</td>\n",
       "      <td>3698.047607</td>\n",
       "      <td>3761.380371</td>\n",
       "      <td>3761.380371</td>\n",
       "      <td>12080777893</td>\n",
       "      <td>1.493497</td>\n",
       "    </tr>\n",
       "    <tr>\n",
       "      <th>2022-01-04</th>\n",
       "      <td>0.135772</td>\n",
       "      <td>3761.361572</td>\n",
       "      <td>3876.785156</td>\n",
       "      <td>3723.349854</td>\n",
       "      <td>3794.056641</td>\n",
       "      <td>3794.056641</td>\n",
       "      <td>14030925983</td>\n",
       "      <td>1.493497</td>\n",
       "    </tr>\n",
       "    <tr>\n",
       "      <th>...</th>\n",
       "      <td>...</td>\n",
       "      <td>...</td>\n",
       "      <td>...</td>\n",
       "      <td>...</td>\n",
       "      <td>...</td>\n",
       "      <td>...</td>\n",
       "      <td>...</td>\n",
       "      <td>...</td>\n",
       "    </tr>\n",
       "    <tr>\n",
       "      <th>2022-11-07</th>\n",
       "      <td>2.868040</td>\n",
       "      <td>1572.016968</td>\n",
       "      <td>1604.475342</td>\n",
       "      <td>1550.415527</td>\n",
       "      <td>1568.591309</td>\n",
       "      <td>1568.591309</td>\n",
       "      <td>15279963349</td>\n",
       "      <td>1.493497</td>\n",
       "    </tr>\n",
       "    <tr>\n",
       "      <th>2022-11-08</th>\n",
       "      <td>2.868040</td>\n",
       "      <td>1568.329590</td>\n",
       "      <td>1574.799805</td>\n",
       "      <td>1259.443115</td>\n",
       "      <td>1332.835571</td>\n",
       "      <td>1332.835571</td>\n",
       "      <td>42048003440</td>\n",
       "      <td>1.493497</td>\n",
       "    </tr>\n",
       "    <tr>\n",
       "      <th>2022-11-09</th>\n",
       "      <td>2.868040</td>\n",
       "      <td>1333.122437</td>\n",
       "      <td>1335.743530</td>\n",
       "      <td>1083.285645</td>\n",
       "      <td>1100.169800</td>\n",
       "      <td>1100.169800</td>\n",
       "      <td>38864492427</td>\n",
       "      <td>1.493497</td>\n",
       "    </tr>\n",
       "    <tr>\n",
       "      <th>2022-11-10</th>\n",
       "      <td>2.868040</td>\n",
       "      <td>1100.107178</td>\n",
       "      <td>1341.791138</td>\n",
       "      <td>1093.122559</td>\n",
       "      <td>1299.464600</td>\n",
       "      <td>1299.464600</td>\n",
       "      <td>28581002122</td>\n",
       "      <td>1.493497</td>\n",
       "    </tr>\n",
       "    <tr>\n",
       "      <th>2022-11-12</th>\n",
       "      <td>2.868040</td>\n",
       "      <td>1288.150879</td>\n",
       "      <td>1288.150879</td>\n",
       "      <td>1269.132935</td>\n",
       "      <td>1272.166138</td>\n",
       "      <td>1272.166138</td>\n",
       "      <td>20172863488</td>\n",
       "      <td>1.493497</td>\n",
       "    </tr>\n",
       "  </tbody>\n",
       "</table>\n",
       "<p>316 rows × 8 columns</p>\n",
       "</div>"
      ],
      "text/plain": [
       "            btc_amt_DCA         Open         High          Low        Close  \\\n",
       "Date                                                                          \n",
       "2021-12-31     0.135772  3713.430176  3807.288818  3636.869873  3682.632812   \n",
       "2022-01-01     0.135772  3683.047119  3769.917969  3682.286621  3769.697021   \n",
       "2022-01-02     0.135772  3769.298340  3836.161865  3727.357422  3829.564941   \n",
       "2022-01-03     0.135772  3829.535645  3836.198730  3698.047607  3761.380371   \n",
       "2022-01-04     0.135772  3761.361572  3876.785156  3723.349854  3794.056641   \n",
       "...                 ...          ...          ...          ...          ...   \n",
       "2022-11-07     2.868040  1572.016968  1604.475342  1550.415527  1568.591309   \n",
       "2022-11-08     2.868040  1568.329590  1574.799805  1259.443115  1332.835571   \n",
       "2022-11-09     2.868040  1333.122437  1335.743530  1083.285645  1100.169800   \n",
       "2022-11-10     2.868040  1100.107178  1341.791138  1093.122559  1299.464600   \n",
       "2022-11-12     2.868040  1288.150879  1288.150879  1269.132935  1272.166138   \n",
       "\n",
       "              Adj Close       Volume  btc_amt_LS  \n",
       "Date                                              \n",
       "2021-12-31  3682.632812  14157285268    1.493497  \n",
       "2022-01-01  3769.697021   9776191466    1.493497  \n",
       "2022-01-02  3829.564941   9881471548    1.493497  \n",
       "2022-01-03  3761.380371  12080777893    1.493497  \n",
       "2022-01-04  3794.056641  14030925983    1.493497  \n",
       "...                 ...          ...         ...  \n",
       "2022-11-07  1568.591309  15279963349    1.493497  \n",
       "2022-11-08  1332.835571  42048003440    1.493497  \n",
       "2022-11-09  1100.169800  38864492427    1.493497  \n",
       "2022-11-10  1299.464600  28581002122    1.493497  \n",
       "2022-11-12  1272.166138  20172863488    1.493497  \n",
       "\n",
       "[316 rows x 8 columns]"
      ]
     },
     "execution_count": 14,
     "metadata": {},
     "output_type": "execute_result"
    }
   ],
   "source": [
    "df_tog"
   ]
  },
  {
   "cell_type": "code",
   "execution_count": 15,
   "metadata": {},
   "outputs": [
    {
     "data": {
      "text/plain": [
       "Date\n",
       "2021-12-31     500.000000\n",
       "2022-01-01     511.820919\n",
       "2022-01-02     519.949332\n",
       "2022-01-03     510.691747\n",
       "2022-01-04     515.128284\n",
       "                 ...     \n",
       "2022-11-07    4498.783165\n",
       "2022-11-08    3822.626198\n",
       "2022-11-09    3155.331377\n",
       "2022-11-10    3726.916905\n",
       "2022-11-12    3648.623814\n",
       "Length: 316, dtype: float64"
      ]
     },
     "execution_count": 15,
     "metadata": {},
     "output_type": "execute_result"
    },
    {
     "data": {
      "image/png": "[encoded data removed]",
      "text/plain": [
       "<Figure size 640x480 with 1 Axes>"
      ]
     },
     "metadata": {},
     "output_type": "display_data"
    }
   ],
   "source": [
    "(df_tog.btc_amt_DCA * df_tog.Close).plot()\n",
    "(df_tog.btc_amt_DCA * df_tog.Close)"
   ]
  },
  {
   "cell_type": "code",
   "execution_count": 16,
   "metadata": {},
   "outputs": [
    {
     "data": {
      "text/plain": [
       "Date\n",
       "2021-12-31    5500.000000\n",
       "2022-01-01    5630.030110\n",
       "2022-01-02    5719.442652\n",
       "2022-01-03    5617.609220\n",
       "2022-01-04    5666.411121\n",
       "                 ...     \n",
       "2022-11-07    2342.685963\n",
       "2022-11-08    1990.585544\n",
       "2022-11-09    1643.099980\n",
       "2022-11-10    1940.746108\n",
       "2022-11-12    1899.975945\n",
       "Length: 316, dtype: float64"
      ]
     },
     "execution_count": 16,
     "metadata": {},
     "output_type": "execute_result"
    },
    {
     "data": {
      "image/png": "[encoded data removed]",
      "text/plain": [
       "<Figure size 640x480 with 1 Axes>"
      ]
     },
     "metadata": {},
     "output_type": "display_data"
    }
   ],
   "source": [
    "(df_tog.btc_amt_LS * df_tog.Close).plot()\n",
    "(df_tog.btc_amt_LS * df_tog.Close)"
   ]
  },
  {
   "cell_type": "code",
   "execution_count": null,
   "metadata": {},
   "outputs": [],
   "source": []
  }
 ],
 "metadata": {
  "kernelspec": {
   "display_name": "Python 3.10.8 64-bit (microsoft store)",
   "language": "python",
   "name": "python3"
  },
  "language_info": {
   "codemirror_mode": {
    "name": "ipython",
    "version": 3
   },
   "file_extension": ".py",
   "mimetype": "text/x-python",
   "name": "python",
   "nbconvert_exporter": "python",
   "pygments_lexer": "ipython3",
   "version": "3.10.8"
  },
  "orig_nbformat": 4,
  "vscode": {
   "interpreter": {
    "hash": "5dd8cad38ac397552cef5385cdae14042bda3126295b38f71df0be63f0c5514c"
   }
  }
 },
 "nbformat": 4,
 "nbformat_minor": 2
}
